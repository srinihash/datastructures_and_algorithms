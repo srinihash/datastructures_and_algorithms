{
  "nbformat": 4,
  "nbformat_minor": 0,
  "metadata": {
    "colab": {
      "name": "algorithms.ipynb",
      "provenance": [],
      "collapsed_sections": [],
      "authorship_tag": "ABX9TyMMASoBJOBKRl3E0tHpOEU8",
      "include_colab_link": true
    },
    "kernelspec": {
      "name": "python3",
      "display_name": "Python 3"
    }
  },
  "cells": [
    {
      "cell_type": "markdown",
      "metadata": {
        "id": "view-in-github",
        "colab_type": "text"
      },
      "source": [
        "<a href=\"https://colab.research.google.com/github/srinihash/datastructures_and_algorithms/blob/master/algorithms.ipynb\" target=\"_parent\"><img src=\"https://colab.research.google.com/assets/colab-badge.svg\" alt=\"Open In Colab\"/></a>"
      ]
    },
    {
      "cell_type": "code",
      "metadata": {
        "id": "KFPo6UenJOiT",
        "colab_type": "code",
        "colab": {}
      },
      "source": [
        "# Timing Algorithms\n",
        "\n",
        "from random import randint\n",
        "\n",
        "from timeit import repeat\n",
        "\n",
        "def time_algorithms(algorithm, input, repeatarg, numberarg):\n",
        "\n",
        "    setup_code = \"from __main__ import {}\".format(algorithm)\n",
        "    print(setup_code)\n",
        "\n",
        "    stmt = f\"{algorithm}({input})\"\n",
        "\n",
        "    times = repeat(setup=setup_code, stmt=stmt, repeat=repeatarg, number=numberarg)\n",
        "\n",
        "    print(f\"Algorithm: {algorithm}. Minimum execution time: {min(times)}\")"
      ],
      "execution_count": null,
      "outputs": []
    },
    {
      "cell_type": "markdown",
      "metadata": {
        "id": "_YrwSrwfFDoV",
        "colab_type": "text"
      },
      "source": [
        "Referrences / Additional Links :\n",
        "\n",
        "Recursive Fuctions : https://realpython.com/python-thinking-recursively/\n",
        "\n"
      ]
    },
    {
      "cell_type": "code",
      "metadata": {
        "id": "cVN0ugw-Hp_i",
        "colab_type": "code",
        "colab": {}
      },
      "source": [
        "# Fibonacci\n",
        "\n",
        "def fibo(n):\n",
        "  #print(\"Calculating F\", \"(\", n, \")\", sep=\"\", end=\", \")\n",
        "  if n ==0:\n",
        "    return 0\n",
        "  if n ==1:\n",
        "    return 1\n",
        "  else:\n",
        "    return fibo(n-1) + fibo(n-2)\n",
        "\n",
        "from functools import lru_cache\n",
        "\n",
        "# https://en.wikipedia.org/wiki/Cache_replacement_policies#Examples\n",
        "# https://docs.python.org/3/library/functools.html#functools.lru_cache\n",
        "@lru_cache(maxsize=None)\n",
        "def cached_fibo(n):\n",
        "    #print(\"Calculating F\", \"(\", n, \")\", sep=\"\", end=\", \")\n",
        "    if n ==0:\n",
        "      return 0\n",
        "    if n ==1:\n",
        "      return 1\n",
        "    else:\n",
        "      return cached_fibo(n-1) + cached_fibo(n-2)"
      ],
      "execution_count": null,
      "outputs": []
    },
    {
      "cell_type": "code",
      "metadata": {
        "id": "KA7tPBKXNI4z",
        "colab_type": "code",
        "colab": {
          "base_uri": "https://localhost:8080/",
          "height": 86
        },
        "outputId": "e24b7495-e3db-4d0b-c6bd-2f23ce1ccbfc"
      },
      "source": [
        "if __name__ == \"__main__\":\n",
        "    time_algorithms(\"fibo\", 40, repeatarg=1, numberarg=1)\n",
        "    time_algorithms(\"cached_fibo\", 40, repeatarg=1, numberarg=1)"
      ],
      "execution_count": null,
      "outputs": [
        {
          "output_type": "stream",
          "text": [
            "from __main__ import cached_fibo\n",
            "Algorithm: cached_fibo. Minimum execution time: 5.0004999138764106e-05\n",
            "from __main__ import fibo\n",
            "Algorithm: fibo. Minimum execution time: 38.026144412000576\n"
          ],
          "name": "stdout"
        }
      ]
    },
    {
      "cell_type": "code",
      "metadata": {
        "id": "fOHtkJc0VxHg",
        "colab_type": "code",
        "colab": {
          "base_uri": "https://localhost:8080/",
          "height": 34
        },
        "outputId": "9af5f0d8-9de1-4784-b41a-e396c37b597e"
      },
      "source": [
        "import sys\n",
        "sys.getrecursionlimit()"
      ],
      "execution_count": null,
      "outputs": [
        {
          "output_type": "execute_result",
          "data": {
            "text/plain": [
              "1000"
            ]
          },
          "metadata": {
            "tags": []
          },
          "execution_count": 91
        }
      ]
    },
    {
      "cell_type": "code",
      "metadata": {
        "id": "lnfL8mOBCzLT",
        "colab_type": "code",
        "colab": {}
      },
      "source": [
        "# Timing Sorting Algorithms\n",
        "\n",
        "from random import randint\n",
        "\n",
        "from timeit import repeat\n",
        "\n",
        "\n",
        "def run_sorting_algorithm(algorithm, array, repeatarg, numberarg):\n",
        "\n",
        "    # Set up the context and prepare the call to the specified\n",
        "\n",
        "    # algorithm using the supplied array. Only import the\n",
        "\n",
        "    # algorithm function if it's not the built-in `sorted()`.\n",
        "\n",
        "    setup_code = \"from __main__ import {}\".format(algorithm) if algorithm != \"sorted\" else \"\"\n",
        "\n",
        "\n",
        "    stmt = f\"{algorithm}({array})\"\n",
        "\n",
        "\n",
        "    # Execute the code ten different times and return the time\n",
        "\n",
        "    # in seconds that each execution took\n",
        "\n",
        "    times = repeat(setup=setup_code, stmt=stmt, repeat=repeatarg, number=numberarg)\n",
        "\n",
        "\n",
        "    # Finally, display the name of the algorithm and the\n",
        "\n",
        "    # minimum time it took to run\n",
        "\n",
        "    print(f\"Algorithm: {algorithm}. Minimum execution time: {min(times)}\")"
      ],
      "execution_count": null,
      "outputs": []
    },
    {
      "cell_type": "code",
      "metadata": {
        "id": "s7M4qfK5DU8D",
        "colab_type": "code",
        "colab": {
          "base_uri": "https://localhost:8080/",
          "height": 86
        },
        "outputId": "5d13835a-a0b2-4b19-e534-e0ab6ef8d9e6"
      },
      "source": [
        "https://realpython.com/sorting-algorithms-python/\n",
        "https://en.wikipedia.org/wiki/Algorithmic_paradigm\n",
        "\n",
        "ARRAY_LENGTH = 10000\n",
        "\n",
        "def bubble_sort(arr):\n",
        "    n = len(arr)\n",
        "\n",
        "    for i in range(n):\n",
        "        already_sorted = True\n",
        "        for j in range(n-i-1):\n",
        "            if arr[j] > arr[j+1]:\n",
        "                arr[j], arr[j+1] = arr[j+1], arr[j]\n",
        "                already_sorted = False\n",
        "        if already_sorted:\n",
        "          break\n",
        "    \n",
        "    return arr\n",
        "\n",
        "# insertion_sort is a type of online algorithm : \n",
        "# https://en.wikipedia.org/wiki/Online_algorithm\n",
        "# https://en.wikipedia.org/wiki/Divide-and-conquer_algorithm\n",
        "def insertion_sort(arr):\n",
        "    \n",
        "    for i in range(1, len(arr)):\n",
        "      # Take the key_item i.e. it would be the first item of the right side array\n",
        "      key_item = arr[i]\n",
        "\n",
        "      # Store/take the rightmost index of the left side array(presuming it ot be\n",
        "      #sorted in ascending at every step/iteration)\n",
        "      j = i-1\n",
        "\n",
        "      # Check if there are elements in the left side array and also \n",
        "      # if first item of the right side array is greater than key_item\n",
        "      while j>=0 and arr[j] > key_item:\n",
        "        # if above two conditions satisfy then, write that larger element of \n",
        "        # left side array to the first position of right side array\n",
        "        arr[j+1] = arr[j]\n",
        "        # Once above write is done then, decrement the postion of left side \n",
        "        #array to compare the elemnts with key_item so that correct postion can \n",
        "        # be found for key_item in the left side array (which is nothing but \n",
        "        #repeat the above loop until either of the above two or oth condition fails !)\n",
        "        j -= 1\n",
        "\n",
        "      # At the end of above loop it means that either or both of the above \n",
        "      # condition has failed and hence the correct position for key_item has \n",
        "      # been found and hence we replace it there with this key_item\n",
        "      arr[j+1] = key_item\n",
        "    \n",
        "    # Return the sorted array\n",
        "    return arr\n",
        "\n",
        "def merge(left, right):\n",
        "    if len(left) == 0:\n",
        "        return right\n",
        "    \n",
        "    if len(right):\n",
        "        return left\n",
        "    \n",
        "    result = []\n",
        "    left_index = right_index = 0\n",
        "\n",
        "    while len(result) < len(left) + len(right):\n",
        "        if left[left_index] <= right[right_index]:\n",
        "            result.append(left[left_index])\n",
        "            left_index += 1\n",
        "        else:\n",
        "            result.append(right[right_index])\n",
        "            right_index += 1\n",
        "        \n",
        "        if right_index == len(right):\n",
        "            result += left[left_index:]\n",
        "            break\n",
        "\n",
        "        if left_index == len(left):\n",
        "            result += right[right_index:]\n",
        "            break\n",
        "\n",
        "    return result\n",
        "\n",
        "# https://en.wikipedia.org/wiki/Merge_sort\n",
        "# https://en.wikipedia.org/wiki/External_memory_algorithm\n",
        "# https://en.wikipedia.org/wiki/Model_of_computation\n",
        "def merge_sort(arr):\n",
        "    if len(arr) < 2:\n",
        "        return arr\n",
        "    \n",
        "    midpoint = len(arr) // 2\n",
        "\n",
        "    return merge(left=merge_sort(arr[:midpoint]),\n",
        "                 right=merge_sort(arr[midpoint:]))\n",
        "\n",
        "\n",
        "if __name__ == \"__main__\":\n",
        "\n",
        "    # Generate an array of `ARRAY_LENGTH` items consisting\n",
        "\n",
        "    # of random integer values between 0 and 999\n",
        "\n",
        "    array = [randint(0, 1000) for i in range(ARRAY_LENGTH)]\n",
        "\n",
        "\n",
        "    # Call the function using the name of the sorting algorithm\n",
        "\n",
        "    # and the array you just created\n",
        "\n",
        "    # Python's inbuilt sort functionality\n",
        "    run_sorting_algorithm(algorithm=\"sorted\", array=array, repeatarg=1, numberarg=1)\n",
        "\n",
        "    # Bubble Sort Algorithm\n",
        "    \"\"\"\n",
        "    Analyzing the Strengths and Weaknesses of Bubble Sort\n",
        "    The main advantage of the bubble sort algorithm is its simplicity. \n",
        "    It is straightforward to both implement and understand. \n",
        "\n",
        "    This is probably the main reason why most computer science courses \n",
        "    introduce the topic of sorting using bubble sort.\n",
        "\n",
        "    As you saw before, the disadvantage of bubble sort is that it is slow, \n",
        "    with a runtime complexity of O(n2). Unfortunately, this rules it out as a \n",
        "    practical candidate for sorting large arrays.\n",
        "    \"\"\"\n",
        "    run_sorting_algorithm(algorithm=\"bubble_sort\", array=array, repeatarg=1, numberarg=1)\n",
        "\n",
        "    # Insertion Sort Algorithm\n",
        "    \"\"\"\n",
        "    Just like bubble sort, the insertion sort algorithm is very uncomplicated to \n",
        "    implement. Even though insertion sort is an O(n2) algorithm, it’s also much \n",
        "    more efficient in practice than other quadratic implementations such as \n",
        "    bubble sort.\n",
        "\n",
        "    There are more powerful algorithms, including merge sort and quicksort, \n",
        "    but these implementations are recursive and usually fail to beat insertion \n",
        "    sort when working on small lists. Some quicksort implementations even use \n",
        "    insertion sort internally if the list is small enough to provide a faster \n",
        "    overall implementation. Timsort also uses insertion sort internally to sort \n",
        "    small portions of the input array.\n",
        "\n",
        "    That said, insertion sort is not practical for large arrays, opening the \n",
        "    door to algorithms that can scale in more efficient ways.\n",
        "    \"\"\"\n",
        "    run_sorting_algorithm(algorithm=\"insertion_sort\", array=array, repeatarg=1, numberarg=1)\n",
        "\n",
        "    # Merge Sort Algorithm\n",
        "    \"\"\"\n",
        "    merge() has a linear runtime. It receives two arrays whose combined length \n",
        "    is at most n (the length of the original input array), and it combines both \n",
        "    arrays by looking at each element at most once. This leads to a runtime \n",
        "    complexity of O(n).\n",
        "\n",
        "    The second step splits the input array recursively and calls merge() for \n",
        "    each half. Since the array is halved until a single element remains, the \n",
        "    total number of halving operations performed by this function is log2n. \n",
        "    Since merge() is called for each half, we get a total runtime of O(n log2n).\n",
        "\n",
        "    Interestingly, O(nlogn) is the best possible worst-case runtime that \n",
        "    can be achieved by a sorting algorithm.\n",
        "\n",
        "    Thanks to its runtime complexity of O(n log2n), merge sort is a very \n",
        "    efficient algorithm that scales well as the size of the input array grows. \n",
        "    It’s also straightforward to parallelize because it breaks the input array \n",
        "    into chunks that can be distributed and processed in parallel if necessary.\n",
        "\n",
        "    That said, for small lists, the time cost of the recursion allows algorithms \n",
        "    such as bubble sort and insertion sort to be faster.\n",
        "\n",
        "    Both bubble sort and insertion sort beat merge sort when sorting a ten-element list.\n",
        "    Another drawback of merge sort is that it creates copies of the array when \n",
        "    calling itself recursively. It also creates a new list inside merge() to \n",
        "    sort and return both input halves. This makes merge sort use much more memory \n",
        "    than bubble sort and insertion sort, which are both able to sort the list in place.\n",
        "\n",
        "    Due to this limitation, you may not want to use merge sort to sort large \n",
        "    lists in memory-constrained hardware.\n",
        "    \"\"\"\n",
        "    run_sorting_algorithm(algorithm=\"merge_sort\", array=array, repeatarg=1, numberarg=1)"
      ],
      "execution_count": null,
      "outputs": [
        {
          "output_type": "stream",
          "text": [
            "Algorithm: sorted. Minimum execution time: 0.0024599680000392254\n",
            "Algorithm: bubble_sort. Minimum execution time: 7.191318892999334\n",
            "Algorithm: insertion_sort. Minimum execution time: 3.3447149449984863\n",
            "Algorithm: merge_sort. Minimum execution time: 0.006944019998627482\n"
          ],
          "name": "stdout"
        }
      ]
    },
    {
      "cell_type": "markdown",
      "metadata": {
        "id": "1W6c6--rf0As",
        "colab_type": "text"
      },
      "source": [
        "Search Algorithms :\n",
        "\n",
        "https://en.wikipedia.org/wiki/Search_algorithm\n",
        "\n",
        "https://realpython.com/binary-search-python/"
      ]
    },
    {
      "cell_type": "code",
      "metadata": {
        "id": "bEPrZs8ekhXb",
        "colab_type": "code",
        "colab": {}
      },
      "source": [
        "# Timing Search Algorithms\n",
        "\n",
        "from random import randint\n",
        "\n",
        "from timeit import repeat\n",
        "\n",
        "\n",
        "def run_search_algorithm(algorithm, collection, find_element, repeatarg, numberarg):\n",
        "\n",
        "    # Set up the context and prepare the call to the specified\n",
        "\n",
        "    # algorithm using the supplied array. Only import the\n",
        "\n",
        "    # algorithm function if it's not the built-in `sorted()`.\n",
        "\n",
        "    setup_code = \"from __main__ import {}\".format(algorithm)\n",
        "\n",
        "\n",
        "    stmt = f\"{algorithm}({collection}, {find_element})\"\n",
        "\n",
        "\n",
        "    # Execute the code ten different times and return the time\n",
        "\n",
        "    # in seconds that each execution took\n",
        "\n",
        "    times = repeat(setup=setup_code, stmt=stmt, repeat=repeatarg, number=numberarg)\n",
        "\n",
        "\n",
        "    # Finally, display the name of the algorithm and the\n",
        "\n",
        "    # minimum time it took to run\n",
        "\n",
        "    print(f\"Algorithm: {algorithm}. Minimum execution time: {min(times)}\")"
      ],
      "execution_count": null,
      "outputs": []
    },
    {
      "cell_type": "code",
      "metadata": {
        "id": "B0Ohmrdih2oX",
        "colab_type": "code",
        "colab": {
          "base_uri": "https://localhost:8080/",
          "height": 69
        },
        "outputId": "30cd9e66-0bc3-4f74-a8b9-08e95fb57910"
      },
      "source": [
        "# https://en.wikipedia.org/wiki/Search_algorithm\n",
        "# https://realpython.com/binary-search-python/\n",
        "\n",
        "ARRAY_LENGTH = 1000000\n",
        "\n",
        "# https://en.wikipedia.org/wiki/Linear_search\n",
        "def linear_search(arr, find_item):\n",
        "    for i in range(len(arr)):\n",
        "        if arr[i] == find_item:\n",
        "            return i\n",
        "    return None\n",
        "\n",
        "# https://en.wikipedia.org/wiki/Binary_search_algorithm\n",
        "def find_index(arr, find_item):\n",
        "    left, right = 0, len(arr)-1\n",
        "\n",
        "    while left <= right:\n",
        "        middle = (left + right) // 2\n",
        "\n",
        "        if arr[middle] == find_item:\n",
        "            return middle\n",
        "        \n",
        "        if arr[middle] < find_item:\n",
        "            left = middle + 1\n",
        "        elif arr[middle] > find_item:\n",
        "            right = middle - 1\n",
        "\n",
        "def binary_search(arr, find_item):\n",
        "    find_index(arr, find_item)\n",
        "\n",
        "def hash_search(hash_dict, find_item):\n",
        "    hash_dict[find_item]\n",
        "\n",
        "if __name__ == \"__main__\":\n",
        "\n",
        "    array = [randint(0, 1000000) for i in range(ARRAY_LENGTH)]\n",
        "\n",
        "    run_search_algorithm(algorithm=\"linear_search\", collection=array, find_element=9999, repeatarg=1, numberarg=1)\n",
        "\n",
        "    \"\"\"\n",
        "    Binary search is a great example of a divide-and-conquer technique, which \n",
        "    partitions one problem into a bunch of smaller problems of the same kind. \n",
        "    The individual solutions are then combined to form the final answer. \n",
        "    Another well-known example of this technique is the quicksort algorithm.\n",
        "\n",
        "    Unlike other search algorithms, binary search can be used beyond just searching. \n",
        "    For example, it allows for set membership testing, finding the largest or \n",
        "    smallest value, finding the nearest neighbor of the target value, performing \n",
        "    range queries, and more.\n",
        "\n",
        "    If speed is a top priority, then binary search is not always the best choice. \n",
        "    There are even faster algorithms that can take advantage of hash-based data structures. \n",
        "    However, those algorithms require a lot of additional memory, whereas \n",
        "    binary search offers a good space-time tradeoff.\n",
        "    \"\"\"\n",
        "    local_copy = array\n",
        "    local_copy.sort()\n",
        "    run_search_algorithm(algorithm=\"binary_search\", collection=local_copy, find_element=9999, repeatarg=1, numberarg=1)\n",
        "\n",
        "    hash_storage = dict()\n",
        "    for key, value in enumerate(array):\n",
        "        hash_storage[key] = value\n",
        "    run_search_algorithm(algorithm=\"hash_search\", collection=hash_storage, find_element=9999, repeatarg=1, numberarg=1)"
      ],
      "execution_count": null,
      "outputs": [
        {
          "output_type": "stream",
          "text": [
            "Algorithm: linear_search. Minimum execution time: 0.23736609699972178\n",
            "Algorithm: binary_search. Minimum execution time: 0.016691960999196453\n",
            "Algorithm: hash_search. Minimum execution time: 0.11457880699981615\n"
          ],
          "name": "stdout"
        }
      ]
    }
  ]
}